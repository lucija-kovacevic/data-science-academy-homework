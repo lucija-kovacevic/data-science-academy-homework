{
 "cells": [
  {
   "cell_type": "code",
   "execution_count": 9,
   "metadata": {},
   "outputs": [
    {
     "name": "stdout",
     "output_type": "stream",
     "text": [
      "Files downloaded and zipped successfully.\n"
     ]
    }
   ],
   "source": [
    "import paramiko\n",
    "import zipfile\n",
    "\n",
    "with paramiko.SSHClient() as ssh:\n",
    "    ssh.set_missing_host_key_policy(paramiko.AutoAddPolicy())\n",
    "    ssh.connect('130.61.238.15', username='sofascore_academy', password='H69qByfVGwkLgezF')\n",
    "    with ssh.open_sftp() as sftp:\n",
    "        remote_directory = '/home/sofascore_academy/l2_dataset/march'\n",
    "        local_directory = '/Users/lucij/Desktop/monthly_data'\n",
    "        \n",
    "        files = sftp.listdir(remote_directory)\n",
    "        \n",
    "        for file in files:\n",
    "            remote_file_path = f\"{remote_directory}/{file}\"\n",
    "            local_file_path = f\"{local_directory}/{file}\"\n",
    "            sftp.get(remote_file_path, local_file_path)\n",
    "\n",
    "            with zipfile.ZipFile(local_file_path, 'r') as individual_zip:\n",
    "                individual_zip.extractall('/Users/lucij/Desktop/raw_data')\n",
    "\n"
   ]
  }
 ],
 "metadata": {
  "kernelspec": {
   "display_name": "Python 3",
   "language": "python",
   "name": "python3"
  },
  "language_info": {
   "codemirror_mode": {
    "name": "ipython",
    "version": 3
   },
   "file_extension": ".py",
   "mimetype": "text/x-python",
   "name": "python",
   "nbconvert_exporter": "python",
   "pygments_lexer": "ipython3",
   "version": "3.12.2"
  }
 },
 "nbformat": 4,
 "nbformat_minor": 2
}
