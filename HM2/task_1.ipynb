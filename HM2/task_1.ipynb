{
 "cells": [
  {
   "cell_type": "code",
   "execution_count": 1,
   "id": "bbde87c8",
   "metadata": {},
   "outputs": [],
   "source": [
    "import logging\n",
    "import os\n",
    "\n",
    "logging.basicConfig(filename='task_1.log',encoding='utf-8',level=logging.INFO, filemode = 'w+', format='%(process)d-%(levelname)s-%(message)s') \n",
    "\n",
    "os.makedirs('/Users/lucij/Desktop/monthly_data', exist_ok=True)\n",
    "logging.info('Created directory for downloading files')\n",
    "\n"
   ]
  },
  {
   "cell_type": "code",
   "execution_count": 9,
   "id": "35668658-8c74-4693-b9f1-58f93c692c89",
   "metadata": {},
   "outputs": [],
   "source": [
    "import paramiko \n",
    "\n",
    "try:\n",
    "    with paramiko.SSHClient() as ssh:\n",
    "        ssh.set_missing_host_key_policy(paramiko.AutoAddPolicy())\n",
    "        ssh.connect('130.61.238.15', username='sofascore_academy', password='H69qByfVGwkLgezF')\n",
    "\n",
    "    logging.info('Connected sucesfully')\n",
    "\n",
    "except paramiko.AuthenticationException:\n",
    "    logging.error('Authentication failed')\n",
    "    password = input(\"Enter password: \")\n",
    "    username = input(\"Enter username: \")\n",
    "    ssh.connect('130.61.238.15', username=username, password=password)\n",
    "\n",
    "except paramiko.SSHException as sshException:\n",
    "    logging.error('Unable to establish SSH connection')\n",
    "\n",
    "    try:\n",
    "        with ssh.open_sftp() as sftp:\n",
    "            sftp.get('/home/sofascore_academy/l2_dataset/january.csv.zip', '/Users/lucij/Desktop/monthly_data/downloaded_january.csv.zip')\n",
    "\n",
    "    except FileNotFoundError:\n",
    "        logging.error('File doesnt exist')\n",
    "\n",
    "\n"
   ]
  },
  {
   "cell_type": "code",
   "execution_count": 10,
   "id": "e315aa57-0a9e-4e31-9254-85d52af6423f",
   "metadata": {},
   "outputs": [],
   "source": [
    "from zipfile import ZipFile\n",
    "file_name = '/Users/lucij/Desktop/monthly_data/downloaded_january.csv.zip'\n",
    "\n",
    "try:\n",
    "    with ZipFile(file_name, 'r') as zip_file:\n",
    "        zip_file.extractall('/Users/lucij/Desktop/raw_data')\n",
    "    logging.info('Extracted january.csv file')\n",
    "except FileNotFoundError:\n",
    "    logging.error('File doesnt exist')\n",
    "\n"
   ]
  }
 ],
 "metadata": {
  "kernelspec": {
   "display_name": "Python 3 (ipykernel)",
   "language": "python",
   "name": "python3"
  },
  "language_info": {
   "codemirror_mode": {
    "name": "ipython",
    "version": 3
   },
   "file_extension": ".py",
   "mimetype": "text/x-python",
   "name": "python",
   "nbconvert_exporter": "python",
   "pygments_lexer": "ipython3",
   "version": "3.12.2"
  }
 },
 "nbformat": 4,
 "nbformat_minor": 5
}
