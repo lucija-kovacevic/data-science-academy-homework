{
 "cells": [
  {
   "cell_type": "code",
   "execution_count": 5,
   "metadata": {},
   "outputs": [],
   "source": [
    "import logging\n",
    "\n",
    "logging.basicConfig(filename='task_2.log',encoding='utf-8',level=logging.INFO, filemode = 'w+', format='%(process)d-%(levelname)s-%(message)s') \n",
    "\n",
    "import paramiko \n",
    "\n",
    "\n",
    "try:\n",
    "    with paramiko.SSHClient() as ssh:\n",
    "        ssh.set_missing_host_key_policy(paramiko.AutoAddPolicy())\n",
    "        ssh.connect('130.61.238.15', username='sofascore_academy', password='H69qByfVGwkLgezF')\n",
    "\n",
    "    logging.info('Connected sucesfully')\n",
    "\n",
    "except paramiko.AuthenticationException:\n",
    "    logging.error('Authentication failed')\n",
    "    password = input(\"Enter password: \")\n",
    "    username = input(\"Enter username: \")\n",
    "    ssh.connect('130.61.238.15', username=username, password=password)\n",
    "\n",
    "except paramiko.SSHException as sshException:\n",
    "    logging.error('Unable to establish SSH connection')\n",
    "\n",
    "    try:\n",
    "        with ssh.open_sftp() as sftp:\n",
    "            sftp.get('/home/sofascore_academy/l2_dataset/february.tar.gz', '/Users/lucij/Desktop/monthly_data/downloaded_february.tar.gz')\n",
    "\n",
    "    except FileNotFoundError:\n",
    "        logging.error('File doesnt exist')\n"
   ]
  },
  {
   "cell_type": "code",
   "execution_count": 6,
   "metadata": {},
   "outputs": [],
   "source": [
    "from tarfile import TarFile\n",
    "file_name = '/Users/lucij/Desktop/monthly_data/downloaded_february.tar.gz'\n",
    "\n",
    "try:\n",
    "    with TarFile.open(file_name, 'r') as tar_file:\n",
    "        tar_file.extractall('/Users/lucij/Desktop/raw_data',filter='data')\n",
    "    logging.info('Extracted fenruary.zip')\n",
    "except FileNotFoundError:\n",
    "    logging.error('File doesnt exist')\n",
    "\n"
   ]
  }
 ],
 "metadata": {
  "kernelspec": {
   "display_name": "Python 3",
   "language": "python",
   "name": "python3"
  },
  "language_info": {
   "codemirror_mode": {
    "name": "ipython",
    "version": 3
   },
   "file_extension": ".py",
   "mimetype": "text/x-python",
   "name": "python",
   "nbconvert_exporter": "python",
   "pygments_lexer": "ipython3",
   "version": "3.12.2"
  }
 },
 "nbformat": 4,
 "nbformat_minor": 2
}
