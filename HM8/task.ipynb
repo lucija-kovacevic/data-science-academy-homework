{
 "cells": [
  {
   "cell_type": "code",
   "execution_count": 2,
   "metadata": {},
   "outputs": [],
   "source": [
    "import logging\n",
    "import paramiko\n",
    "import pickle\n",
    "\n",
    "with paramiko.SSHClient() as ssh:\n",
    "    ssh.set_missing_host_key_policy(paramiko.AutoAddPolicy())\n",
    "    ssh.connect('130.61.238.15', username='sofascore_academy', password='H69qByfVGwkLgezF')\n",
    "    with ssh.open_sftp() as sftp:\n",
    "        sftp.get('/home/sofascore_academy/hw8_dataset/dataset_academy.pickle', 'C:/Users/lucij/Desktop/Code/Academy2024/data-science-academy-homework/HM8/dataset_academy.pickle')\n",
    "\n",
    "\n",
    "with open('C:/Users/lucij/Desktop/Code/Academy2024/data-science-academy-homework/HM8/dataset_academy.pickle', 'rb') as file:\n",
    "    data = pickle.load(file)"
   ]
  },
  {
   "cell_type": "code",
   "execution_count": 3,
   "metadata": {},
   "outputs": [
    {
     "name": "stdout",
     "output_type": "stream",
     "text": [
      "[1 0]\n",
      "Index(['user_id', 'avg_open_team', 'avg_open_event', 'avg_open_league',\n",
      "       'avg_open_player', 'avg_open_matches', 'avg_open_lineups',\n",
      "       'avg_open_sport', 'avg_open_overs', 'avg_open_fight_night',\n",
      "       'avg_open_stage', 'avg_follow_team', 'avg_follow_player',\n",
      "       'avg_follow_league', 'avg_chat_activity', 'avg_chat_action',\n",
      "       'avg_ads_impression_custom', 'avg_odds_impression',\n",
      "       'avg_total_screen_time', 'avg_num_distinct_events', 'geo_country',\n",
      "       'campaign', 'Organic_Flag'],\n",
      "      dtype='object')\n"
     ]
    }
   ],
   "source": [
    "def set_value(row):\n",
    "    if row['campaign'] == '<organic>':\n",
    "        return 0\n",
    "    else:\n",
    "        return 1\n",
    "\n",
    "data['Organic_Flag'] = data.apply(lambda row: set_value(row), axis=1)\n"
   ]
  },
  {
   "cell_type": "code",
   "execution_count": 4,
   "metadata": {},
   "outputs": [],
   "source": [
    "import numpy as np\n",
    "import pandas as pd\n",
    "from sklearn.model_selection import train_test_split\n",
    "from sklearn.svm import SVC\n",
    "from sklearn.metrics import accuracy_score, classification_report, confusion_matrix\n",
    "\n",
    "\n",
    "from sklearn.preprocessing import LabelEncoder\n",
    "label_encoder = LabelEncoder()\n",
    "\n",
    "data['geo_country'] = label_encoder.fit_transform(data['geo_country'])\n",
    "\n",
    "\n",
    "X = data[[ 'avg_open_team', 'avg_open_event', 'avg_open_league','avg_open_player', 'avg_open_matches', 'avg_open_lineups','avg_open_sport', 'avg_open_overs', 'avg_open_fight_night','avg_open_stage', 'avg_follow_team', 'avg_follow_player','avg_follow_league', 'avg_chat_activity', 'avg_chat_action','avg_ads_impression_custom', 'avg_odds_impression','avg_total_screen_time', 'avg_num_distinct_events', 'geo_country']]  # Replace with your feature columns\n",
    "y = data['Organic_Flag']  # Replace with your binary target column\n",
    "\n",
    "X_train, X_test, y_train, y_test = train_test_split(X, y, test_size=0.2, random_state=42)\n",
    "\n",
    "svm_model = SVC(kernel='linear')  \n",
    "\n",
    "svm_model.fit(X_train, y_train)\n",
    "\n",
    "y_pred = svm_model.predict(X_test)\n",
    "\n",
    "accuracy = accuracy_score(y_test, y_pred)\n",
    "print(f'Accuracy: {accuracy:.2f}')\n",
    "\n",
    "print('\\nClassification Report:')\n",
    "print(classification_report(y_test, y_pred))\n",
    "\n",
    "print('\\nConfusion Matrix:')\n",
    "print(confusion_matrix(y_test, y_pred))\n"
   ]
  }
 ],
 "metadata": {
  "kernelspec": {
   "display_name": "Python 3",
   "language": "python",
   "name": "python3"
  },
  "language_info": {
   "codemirror_mode": {
    "name": "ipython",
    "version": 3
   },
   "file_extension": ".py",
   "mimetype": "text/x-python",
   "name": "python",
   "nbconvert_exporter": "python",
   "pygments_lexer": "ipython3",
   "version": "3.12.2"
  }
 },
 "nbformat": 4,
 "nbformat_minor": 2
}
